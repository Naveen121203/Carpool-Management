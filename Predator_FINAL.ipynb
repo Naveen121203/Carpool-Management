{
 "cells": [
  {
   "attachments": {},
   "cell_type": "markdown",
   "metadata": {},
   "source": [
    "Importing required libraries"
   ]
  },
  {
   "cell_type": "code",
   "execution_count": 1,
   "metadata": {},
   "outputs": [],
   "source": [
    "import pandas as pd \n",
    "import numpy as np\n",
    "import seaborn as sbn\n",
    "from matplotlib import pyplot as pp"
   ]
  },
  {
   "attachments": {},
   "cell_type": "markdown",
   "metadata": {},
   "source": [
    "READING THE CSV FILE"
   ]
  },
  {
   "cell_type": "code",
   "execution_count": 2,
   "metadata": {},
   "outputs": [],
   "source": [
    "data_df = pd.read_csv('data.csv')\n"
   ]
  },
  {
   "cell_type": "code",
   "execution_count": 3,
   "metadata": {},
   "outputs": [
    {
     "data": {
      "text/html": [
       "<div>\n",
       "<style scoped>\n",
       "    .dataframe tbody tr th:only-of-type {\n",
       "        vertical-align: middle;\n",
       "    }\n",
       "\n",
       "    .dataframe tbody tr th {\n",
       "        vertical-align: top;\n",
       "    }\n",
       "\n",
       "    .dataframe thead th {\n",
       "        text-align: right;\n",
       "    }\n",
       "</style>\n",
       "<table border=\"1\" class=\"dataframe\">\n",
       "  <thead>\n",
       "    <tr style=\"text-align: right;\">\n",
       "      <th></th>\n",
       "      <th>name</th>\n",
       "      <th>latitude</th>\n",
       "      <th>longitude</th>\n",
       "      <th>car_name</th>\n",
       "      <th>car_number</th>\n",
       "      <th>number_of_seats</th>\n",
       "      <th>in_carpool</th>\n",
       "    </tr>\n",
       "  </thead>\n",
       "  <tbody>\n",
       "    <tr>\n",
       "      <th>0</th>\n",
       "      <td>Aarav</td>\n",
       "      <td>28.7041</td>\n",
       "      <td>77.1025</td>\n",
       "      <td>Maruti Suzuki Swift DZire</td>\n",
       "      <td>VAA123</td>\n",
       "      <td>4.0</td>\n",
       "      <td>True</td>\n",
       "    </tr>\n",
       "    <tr>\n",
       "      <th>1</th>\n",
       "      <td>Aditi</td>\n",
       "      <td>28.7042</td>\n",
       "      <td>77.1026</td>\n",
       "      <td>Honda City</td>\n",
       "      <td>VAB234</td>\n",
       "      <td>4.0</td>\n",
       "      <td>True</td>\n",
       "    </tr>\n",
       "    <tr>\n",
       "      <th>2</th>\n",
       "      <td>Aryan</td>\n",
       "      <td>22.5726</td>\n",
       "      <td>88.3639</td>\n",
       "      <td>Tata Tiago</td>\n",
       "      <td>VAC345</td>\n",
       "      <td>4.0</td>\n",
       "      <td>False</td>\n",
       "    </tr>\n",
       "    <tr>\n",
       "      <th>3</th>\n",
       "      <td>Deepika</td>\n",
       "      <td>22.5727</td>\n",
       "      <td>88.3640</td>\n",
       "      <td>Mahindra Scorpio</td>\n",
       "      <td>VAD456</td>\n",
       "      <td>5.0</td>\n",
       "      <td>True</td>\n",
       "    </tr>\n",
       "    <tr>\n",
       "      <th>4</th>\n",
       "      <td>Gautam</td>\n",
       "      <td>17.3850</td>\n",
       "      <td>78.4867</td>\n",
       "      <td>Renault Kwid</td>\n",
       "      <td>VAE567</td>\n",
       "      <td>4.0</td>\n",
       "      <td>False</td>\n",
       "    </tr>\n",
       "  </tbody>\n",
       "</table>\n",
       "</div>"
      ],
      "text/plain": [
       "      name  latitude  longitude                   car_name car_number  \\\n",
       "0    Aarav   28.7041    77.1025  Maruti Suzuki Swift DZire     VAA123   \n",
       "1    Aditi   28.7042    77.1026                 Honda City     VAB234   \n",
       "2    Aryan   22.5726    88.3639                 Tata Tiago     VAC345   \n",
       "3  Deepika   22.5727    88.3640           Mahindra Scorpio     VAD456   \n",
       "4   Gautam   17.3850    78.4867               Renault Kwid     VAE567   \n",
       "\n",
       "   number_of_seats  in_carpool  \n",
       "0              4.0        True  \n",
       "1              4.0        True  \n",
       "2              4.0       False  \n",
       "3              5.0        True  \n",
       "4              4.0       False  "
      ]
     },
     "execution_count": 3,
     "metadata": {},
     "output_type": "execute_result"
    }
   ],
   "source": [
    "data_df.head()"
   ]
  },
  {
   "attachments": {},
   "cell_type": "markdown",
   "metadata": {},
   "source": [
    "DATASET INFO"
   ]
  },
  {
   "cell_type": "code",
   "execution_count": 4,
   "metadata": {},
   "outputs": [
    {
     "name": "stdout",
     "output_type": "stream",
     "text": [
      "<class 'pandas.core.frame.DataFrame'>\n",
      "RangeIndex: 249 entries, 0 to 248\n",
      "Data columns (total 7 columns):\n",
      " #   Column           Non-Null Count  Dtype  \n",
      "---  ------           --------------  -----  \n",
      " 0   name             249 non-null    object \n",
      " 1   latitude         224 non-null    float64\n",
      " 2   longitude        248 non-null    float64\n",
      " 3   car_name         226 non-null    object \n",
      " 4   car_number       229 non-null    object \n",
      " 5   number_of_seats  226 non-null    float64\n",
      " 6   in_carpool       249 non-null    bool   \n",
      "dtypes: bool(1), float64(3), object(3)\n",
      "memory usage: 12.0+ KB\n"
     ]
    }
   ],
   "source": [
    "data_df.info()"
   ]
  },
  {
   "attachments": {},
   "cell_type": "markdown",
   "metadata": {},
   "source": [
    "CHECKING THE NULL VALUES"
   ]
  },
  {
   "cell_type": "code",
   "execution_count": 5,
   "metadata": {},
   "outputs": [
    {
     "data": {
      "text/plain": [
       "name                0\n",
       "latitude           25\n",
       "longitude           1\n",
       "car_name           23\n",
       "car_number         20\n",
       "number_of_seats    23\n",
       "in_carpool          0\n",
       "dtype: int64"
      ]
     },
     "execution_count": 5,
     "metadata": {},
     "output_type": "execute_result"
    }
   ],
   "source": [
    "data_df.isnull().sum()\n"
   ]
  },
  {
   "attachments": {},
   "cell_type": "markdown",
   "metadata": {},
   "source": [
    "DROPPING THE Rows with null values"
   ]
  },
  {
   "cell_type": "code",
   "execution_count": 6,
   "metadata": {},
   "outputs": [
    {
     "name": "stdout",
     "output_type": "stream",
     "text": [
      "<class 'pandas.core.frame.DataFrame'>\n",
      "Int64Index: 207 entries, 0 to 248\n",
      "Data columns (total 7 columns):\n",
      " #   Column           Non-Null Count  Dtype  \n",
      "---  ------           --------------  -----  \n",
      " 0   name             207 non-null    object \n",
      " 1   latitude         207 non-null    float64\n",
      " 2   longitude        207 non-null    float64\n",
      " 3   car_name         187 non-null    object \n",
      " 4   car_number       205 non-null    object \n",
      " 5   number_of_seats  195 non-null    float64\n",
      " 6   in_carpool       207 non-null    bool   \n",
      "dtypes: bool(1), float64(3), object(3)\n",
      "memory usage: 11.5+ KB\n"
     ]
    }
   ],
   "source": [
    "data_df = data_df.drop_duplicates()\n",
    "data_df =data_df.dropna(subset=['latitude']) # Drop rows with missing values\n",
    "data_df =data_df.dropna(subset=['longitude']) # Drop rows with missing values\n",
    "data_df.info()"
   ]
  },
  {
   "cell_type": "code",
   "execution_count": 7,
   "metadata": {},
   "outputs": [
    {
     "data": {
      "text/plain": [
       "name                0\n",
       "latitude            0\n",
       "longitude           0\n",
       "car_name           20\n",
       "car_number          2\n",
       "number_of_seats    12\n",
       "in_carpool          0\n",
       "dtype: int64"
      ]
     },
     "execution_count": 7,
     "metadata": {},
     "output_type": "execute_result"
    }
   ],
   "source": [
    "data_df.isnull().sum()"
   ]
  },
  {
   "attachments": {},
   "cell_type": "markdown",
   "metadata": {},
   "source": [
    "Finding the mean for number_of_seats and filling it with the mean."
   ]
  },
  {
   "cell_type": "code",
   "execution_count": 8,
   "metadata": {},
   "outputs": [],
   "source": [
    "mean = data_df['number_of_seats'].mean()\n",
    "data_df['number_of_seats'] = data_df['number_of_seats'].fillna(mean)"
   ]
  },
  {
   "cell_type": "code",
   "execution_count": 9,
   "metadata": {},
   "outputs": [
    {
     "data": {
      "text/plain": [
       "name                0\n",
       "latitude            0\n",
       "longitude           0\n",
       "car_name           20\n",
       "car_number          2\n",
       "number_of_seats     0\n",
       "in_carpool          0\n",
       "dtype: int64"
      ]
     },
     "execution_count": 9,
     "metadata": {},
     "output_type": "execute_result"
    }
   ],
   "source": [
    "data_df.isnull().sum()"
   ]
  },
  {
   "attachments": {},
   "cell_type": "markdown",
   "metadata": {},
   "source": [
    "PLOTING TOTAL NUMBER OF CARPOOL TRUE/FALSE"
   ]
  },
  {
   "cell_type": "code",
   "execution_count": 10,
   "metadata": {},
   "outputs": [
    {
     "data": {
      "text/plain": [
       "<Axes: xlabel='in_carpool', ylabel='count'>"
      ]
     },
     "execution_count": 10,
     "metadata": {},
     "output_type": "execute_result"
    },
    {
     "data": {
      "image/png": "[encoded data removed]",
      "text/plain": [
       "<Figure size 640x480 with 1 Axes>"
      ]
     },
     "metadata": {},
     "output_type": "display_data"
    }
   ],
   "source": [
    "sbn.countplot(x='in_carpool',data=data_df)\n"
   ]
  },
  {
   "cell_type": "code",
   "execution_count": 11,
   "metadata": {},
   "outputs": [
    {
     "name": "stderr",
     "output_type": "stream",
     "text": [
      "C:\\Users\\navee\\AppData\\Local\\Temp\\ipykernel_5368\\3493117147.py:1: FutureWarning: The default value of numeric_only in DataFrame.corr is deprecated. In a future version, it will default to False. Select only valid columns or specify the value of numeric_only to silence this warning.\n",
      "  data_df.corr()\n"
     ]
    },
    {
     "data": {
      "text/html": [
       "<div>\n",
       "<style scoped>\n",
       "    .dataframe tbody tr th:only-of-type {\n",
       "        vertical-align: middle;\n",
       "    }\n",
       "\n",
       "    .dataframe tbody tr th {\n",
       "        vertical-align: top;\n",
       "    }\n",
       "\n",
       "    .dataframe thead th {\n",
       "        text-align: right;\n",
       "    }\n",
       "</style>\n",
       "<table border=\"1\" class=\"dataframe\">\n",
       "  <thead>\n",
       "    <tr style=\"text-align: right;\">\n",
       "      <th></th>\n",
       "      <th>latitude</th>\n",
       "      <th>longitude</th>\n",
       "      <th>number_of_seats</th>\n",
       "      <th>in_carpool</th>\n",
       "    </tr>\n",
       "  </thead>\n",
       "  <tbody>\n",
       "    <tr>\n",
       "      <th>latitude</th>\n",
       "      <td>1.000000</td>\n",
       "      <td>-0.852547</td>\n",
       "      <td>-0.522912</td>\n",
       "      <td>0.230607</td>\n",
       "    </tr>\n",
       "    <tr>\n",
       "      <th>longitude</th>\n",
       "      <td>-0.852547</td>\n",
       "      <td>1.000000</td>\n",
       "      <td>0.612497</td>\n",
       "      <td>-0.162148</td>\n",
       "    </tr>\n",
       "    <tr>\n",
       "      <th>number_of_seats</th>\n",
       "      <td>-0.522912</td>\n",
       "      <td>0.612497</td>\n",
       "      <td>1.000000</td>\n",
       "      <td>-0.222829</td>\n",
       "    </tr>\n",
       "    <tr>\n",
       "      <th>in_carpool</th>\n",
       "      <td>0.230607</td>\n",
       "      <td>-0.162148</td>\n",
       "      <td>-0.222829</td>\n",
       "      <td>1.000000</td>\n",
       "    </tr>\n",
       "  </tbody>\n",
       "</table>\n",
       "</div>"
      ],
      "text/plain": [
       "                 latitude  longitude  number_of_seats  in_carpool\n",
       "latitude         1.000000  -0.852547        -0.522912    0.230607\n",
       "longitude       -0.852547   1.000000         0.612497   -0.162148\n",
       "number_of_seats -0.522912   0.612497         1.000000   -0.222829\n",
       "in_carpool       0.230607  -0.162148        -0.222829    1.000000"
      ]
     },
     "execution_count": 11,
     "metadata": {},
     "output_type": "execute_result"
    }
   ],
   "source": [
    "data_df.corr()"
   ]
  },
  {
   "attachments": {},
   "cell_type": "markdown",
   "metadata": {},
   "source": [
    "Less correlated variables are not selected for the process"
   ]
  },
  {
   "cell_type": "code",
   "execution_count": 12,
   "metadata": {},
   "outputs": [],
   "source": [
    "data_df['in_carpool'] = data_df['in_carpool'].astype(int)\n",
    "df = data_df.drop(['name','car_name','car_number','number_of_seats'], axis= 1)"
   ]
  },
  {
   "cell_type": "code",
   "execution_count": 13,
   "metadata": {},
   "outputs": [
    {
     "data": {
      "text/plain": [
       "<Figure size 1200x600 with 0 Axes>"
      ]
     },
     "execution_count": 13,
     "metadata": {},
     "output_type": "execute_result"
    },
    {
     "data": {
      "image/png": "[encoded data removed]",
      "text/plain": [
       "<Figure size 640x480 with 2 Axes>"
      ]
     },
     "metadata": {},
     "output_type": "display_data"
    },
    {
     "data": {
      "text/plain": [
       "<Figure size 1200x600 with 0 Axes>"
      ]
     },
     "metadata": {},
     "output_type": "display_data"
    }
   ],
   "source": [
    "sbn.heatmap(df.corr(),fmt ='.2f', annot=True)\n",
    "pp.figure(figsize=(12,6))"
   ]
  },
  {
   "attachments": {},
   "cell_type": "markdown",
   "metadata": {},
   "source": [
    "FINDING CORRELATION TO EACH VARIABLE"
   ]
  },
  {
   "cell_type": "code",
   "execution_count": 14,
   "metadata": {},
   "outputs": [
    {
     "data": {
      "text/plain": [
       "<Figure size 1200x600 with 0 Axes>"
      ]
     },
     "execution_count": 14,
     "metadata": {},
     "output_type": "execute_result"
    },
    {
     "data": {
      "image/png": "[encoded data removed]",
      "text/plain": [
       "<Figure size 640x480 with 2 Axes>"
      ]
     },
     "metadata": {},
     "output_type": "display_data"
    },
    {
     "data": {
      "text/plain": [
       "<Figure size 1200x600 with 0 Axes>"
      ]
     },
     "metadata": {},
     "output_type": "display_data"
    }
   ],
   "source": [
    "sbn.heatmap(df.corr(),fmt ='.2f', annot=True)\n",
    "pp.figure(figsize=(12,6))"
   ]
  },
  {
   "attachments": {},
   "cell_type": "markdown",
   "metadata": {},
   "source": [
    "we can clearly see latitude,longitude and number of seats are highly correralted to in_carpool but number_of_seats is not measure selected for the prediction as it is completely based on the location. So we will consider other two variables latitude and longitude."
   ]
  },
  {
   "cell_type": "code",
   "execution_count": null,
   "metadata": {},
   "outputs": [],
   "source": []
  },
  {
   "attachments": {},
   "cell_type": "markdown",
   "metadata": {},
   "source": [
    "Creating a function for Box Plot to check the outliers."
   ]
  },
  {
   "cell_type": "code",
   "execution_count": 15,
   "metadata": {},
   "outputs": [
    {
     "data": {
      "text/plain": [
       "Text(0.5, 1.0, 'Box and Whisker Diagram')"
      ]
     },
     "execution_count": 15,
     "metadata": {},
     "output_type": "execute_result"
    },
    {
     "data": {
      "image/png": "[encoded data removed]",
      "text/plain": [
       "<Figure size 640x480 with 1 Axes>"
      ]
     },
     "metadata": {},
     "output_type": "display_data"
    }
   ],
   "source": [
    "def plot_boxplot(df,ft):\n",
    "    df.boxplot(column=[ft])\n",
    "    pp.grid(False)\n",
    "    pp.show()\n",
    "\n",
    "fig, ax = pp.subplots()\n",
    "ax = sbn.boxplot(data_df, palette= 'colorblind')\n",
    "ax.set_title('Box and Whisker Diagram')\n"
   ]
  },
  {
   "cell_type": "code",
   "execution_count": 16,
   "metadata": {},
   "outputs": [
    {
     "data": {
      "image/png": "[encoded data removed]",
      "text/plain": [
       "<Figure size 640x480 with 1 Axes>"
      ]
     },
     "metadata": {},
     "output_type": "display_data"
    }
   ],
   "source": [
    "plot_boxplot(data_df,\"latitude\")"
   ]
  },
  {
   "cell_type": "code",
   "execution_count": 17,
   "metadata": {},
   "outputs": [
    {
     "data": {
      "image/png": "[encoded data removed]",
      "text/plain": [
       "<Figure size 640x480 with 1 Axes>"
      ]
     },
     "metadata": {},
     "output_type": "display_data"
    }
   ],
   "source": [
    "plot_boxplot(data_df,\"longitude\")"
   ]
  },
  {
   "attachments": {},
   "cell_type": "markdown",
   "metadata": {},
   "source": [
    "No Outliers for latitude and longitude."
   ]
  },
  {
   "attachments": {},
   "cell_type": "markdown",
   "metadata": {},
   "source": [
    "USING KNeighborsClassifier BUILT-IN FUNCTION For PREDICTION AND FINDING THE ACCURACY."
   ]
  },
  {
   "attachments": {},
   "cell_type": "markdown",
   "metadata": {},
   "source": [
    "The train-test-split is 80-20."
   ]
  },
  {
   "cell_type": "code",
   "execution_count": 18,
   "metadata": {},
   "outputs": [
    {
     "name": "stdout",
     "output_type": "stream",
     "text": [
      "Maximum Accuracy: 0.7380952380952381\n",
      "Best Model: KNeighborsClassifier(n_neighbors=3)\n"
     ]
    }
   ],
   "source": [
    "\n",
    "from sklearn.neighbors import KNeighborsClassifier\n",
    "from sklearn.metrics import accuracy_score\n",
    "from sklearn.model_selection import train_test_split\n",
    "\n",
    "# Extract the features and target variable\n",
    "X = data_df[['latitude', 'longitude']]\n",
    "y = data_df['in_carpool']\n",
    "\n",
    "max_accuracy = 0\n",
    "best_model = None\n",
    "\n",
    "for i in range(100):  \n",
    "    X_train, X_test, y_train, y_test = train_test_split(X, y, test_size=0.2)\n",
    "\n",
    "    # Create and train a KNN classifier\n",
    "    knn = KNeighborsClassifier(n_neighbors=3)\n",
    "    knn.fit(X_train, y_train)\n",
    "\n",
    "    # Make predictions on the test data\n",
    "    y_pred = knn.predict(X_test)\n",
    "\n",
    "    # Evaluate the model\n",
    "    accuracy = accuracy_score(y_test, y_pred)\n",
    "    #print(accuracy)\n",
    "    if accuracy > max_accuracy:\n",
    "        max_accuracy = accuracy\n",
    "        best_model = knn\n",
    "        \n",
    "\n",
    "print(\"Maximum Accuracy:\", max_accuracy)\n",
    "print(\"Best Model:\", best_model)"
   ]
  },
  {
   "attachments": {},
   "cell_type": "markdown",
   "metadata": {},
   "source": [
    "USING LogisticRegression BUILT-IN FUNCTION For PREDICTION AND FINDING THE ACCURACY."
   ]
  },
  {
   "cell_type": "code",
   "execution_count": 19,
   "metadata": {},
   "outputs": [
    {
     "name": "stdout",
     "output_type": "stream",
     "text": [
      "Maximum Accuracy: 0.8571428571428571\n",
      "Best Model: LogisticRegression()\n"
     ]
    }
   ],
   "source": [
    "from sklearn.linear_model import LogisticRegression\n",
    "from sklearn.metrics import accuracy_score\n",
    "from sklearn.model_selection import train_test_split\n",
    "\n",
    "max_accuracy = 0\n",
    "best_model = None\n",
    "\n",
    "for i in range(100):  \n",
    "    X_train, X_test, y_train, y_test = train_test_split(X, y, test_size=0.2)\n",
    "\n",
    "    # Create and train a logistic regression classifier\n",
    "    logreg = LogisticRegression()\n",
    "    logreg.fit(X_train, y_train)\n",
    "\n",
    "    # Make predictions on the test data\n",
    "    y_pred = logreg.predict(X_test)\n",
    "\n",
    "    # Evaluate the model\n",
    "    accuracy = accuracy_score(y_test, y_pred)\n",
    "\n",
    "    if accuracy > max_accuracy:\n",
    "        max_accuracy = accuracy\n",
    "        best_model = logreg\n",
    "\n",
    "print(\"Maximum Accuracy:\", max_accuracy)\n",
    "print(\"Best Model:\", best_model)"
   ]
  },
  {
   "attachments": {},
   "cell_type": "markdown",
   "metadata": {},
   "source": [
    "We can clearly see that after several training and testing the KNN model has better accuracy than the logistic regression."
   ]
  },
  {
   "attachments": {},
   "cell_type": "markdown",
   "metadata": {},
   "source": [
    "Without using built-in function"
   ]
  },
  {
   "cell_type": "code",
   "execution_count": 20,
   "metadata": {},
   "outputs": [],
   "source": [
    "import numpy as np\n",
    "from collections import Counter\n",
    "import pandas as pd\n",
    "from sklearn.model_selection import train_test_split\n",
    "from sklearn.metrics import accuracy_score\n",
    "\n",
    "\n",
    "data_df = pd.read_csv('data.csv')\n",
    "\n",
    "#missing_values = data_df.isna().sum()\n",
    "#print(missing_values)\n",
    "# Data cleaning process\n",
    "data_df = data_df.dropna(subset=['in_carpool'])  # Drop rows with missing target values\n",
    "data_df = data_df.drop_duplicates()\n",
    "data_df =data_df.dropna(subset=['latitude'])\n",
    "data_df =data_df.dropna(subset=['longitude'])\n",
    "\n",
    "data_df\n",
    "# Extract the features and target variable\n",
    "X = data_df[['latitude', 'longitude']]\n",
    "y = data_df['in_carpool']\n",
    "names = data_df['name']\n",
    "X_train, X_test, y_train, y_test = train_test_split(X, y, test_size=0.2)\n"
   ]
  },
  {
   "cell_type": "code",
   "execution_count": 21,
   "metadata": {},
   "outputs": [
    {
     "data": {
      "text/plain": [
       "'\\nmax_accuracy = 0\\nbest_model = None\\n\\nfor i in range(100):\\n    X_train, X_test, y_train, y_test, names_train, names_test = train_test_split(X, y, names, test_size=0.2)\\n    clf = KNN(k=3)\\n    clf.fit(X_train.values, y_train.values, names_train.values)\\n    predictions_and_neighbors = clf.predict(X_test.values)\\n    predictions = [x[0] for x in predictions_and_neighbors]\\n    nearest_neighbors = [x[1] for x in predictions_and_neighbors]\\n    accuracy = accuracy_score(y_test, predictions)\\n    print(accuracy)\\n    if accuracy > max_accuracy:\\n        max_accuracy = accuracy\\n        best_model = clf\\n\\nprint(f\\'Prediction: {predictions[0]}, Nearest Neighbors: {nearest_neighbors[1]}\\')\\nprint(\"Maximum Accuracy:\", max_accuracy)\\nprint(\"Best Model:\", best_model)\\n\\nbest_model_predictions_and_neighbors = best_model.predict(X_test.values)\\nbest_model_predictions = [x[0] for x in best_model_predictions_and_neighbors]\\nbest_model_nearest_neighbors = [x[1] for x in best_model_predictions_and_neighbors]\\n\\nprint(\"X_test.values for Best Model:\")\\nfor i in range(len(best_model_predictions)):\\n    print(f\"Prediction: {best_model_predictions[i]}, Nearest Neighbors: {best_model_nearest_neighbors[i]}, X_test.values: {X_test.values[i]}\")\\n\\n'"
      ]
     },
     "execution_count": 21,
     "metadata": {},
     "output_type": "execute_result"
    }
   ],
   "source": [
    "\n",
    "def euclidean_distance(x1, x2):\n",
    "    distance = np.sqrt(np.sum((x1 - x2) ** 2))\n",
    "    return distance\n",
    "\n",
    "class KNN:\n",
    "    def __init__(self, k=3):\n",
    "        self.k = k\n",
    "\n",
    "    def fit(self, X, y, names):\n",
    "        self.X_train = X\n",
    "        self.y_train = y\n",
    "        self.names_train = names\n",
    "\n",
    "    def predict(self, X):\n",
    "        predictions = [self._predict(x) for x in X]\n",
    "        return predictions\n",
    "\n",
    "    def _predict(self, x):\n",
    "        x = np.array(x).reshape(1, -1)\n",
    "        distances = [euclidean_distance(x, np.array(x_train)) for x_train in self.X_train]\n",
    "        k_indices = np.argsort(distances)[:self.k]\n",
    "        k_nearest_labels = [self.y_train[i] for i in k_indices]\n",
    "        k_nearest_names = [self.names_train[i] for i in k_indices]\n",
    "        most_common = Counter(k_nearest_labels).most_common()\n",
    "        return most_common[0][0], k_nearest_names\n",
    "'''\n",
    "max_accuracy = 0\n",
    "best_model = None\n",
    "\n",
    "for i in range(100):\n",
    "    X_train, X_test, y_train, y_test, names_train, names_test = train_test_split(X, y, names, test_size=0.2)\n",
    "    clf = KNN(k=3)\n",
    "    clf.fit(X_train.values, y_train.values, names_train.values)\n",
    "    predictions_and_neighbors = clf.predict(X_test.values)\n",
    "    predictions = [x[0] for x in predictions_and_neighbors]\n",
    "    nearest_neighbors = [x[1] for x in predictions_and_neighbors]\n",
    "    accuracy = accuracy_score(y_test, predictions)\n",
    "    print(accuracy)\n",
    "    if accuracy > max_accuracy:\n",
    "        max_accuracy = accuracy\n",
    "        best_model = clf\n",
    "\n",
    "print(f'Prediction: {predictions[0]}, Nearest Neighbors: {nearest_neighbors[1]}')\n",
    "print(\"Maximum Accuracy:\", max_accuracy)\n",
    "print(\"Best Model:\", best_model)\n",
    "\n",
    "best_model_predictions_and_neighbors = best_model.predict(X_test.values)\n",
    "best_model_predictions = [x[0] for x in best_model_predictions_and_neighbors]\n",
    "best_model_nearest_neighbors = [x[1] for x in best_model_predictions_and_neighbors]\n",
    "\n",
    "print(\"X_test.values for Best Model:\")\n",
    "for i in range(len(best_model_predictions)):\n",
    "    print(f\"Prediction: {best_model_predictions[i]}, Nearest Neighbors: {best_model_nearest_neighbors[i]}, X_test.values: {X_test.values[i]}\")\n",
    "\n",
    "'''"
   ]
  },
  {
   "attachments": {},
   "cell_type": "markdown",
   "metadata": {},
   "source": [
    "After several training the KNN MODEL without using built-in function has an accuracy of 0.83 which is higher and better than the logistic regression."
   ]
  },
  {
   "cell_type": "code",
   "execution_count": 22,
   "metadata": {},
   "outputs": [
    {
     "data": {
      "image/png": "[encoded data removed]",
      "text/plain": [
       "<Figure size 640x480 with 1 Axes>"
      ]
     },
     "metadata": {},
     "output_type": "display_data"
    }
   ],
   "source": [
    "import matplotlib.pyplot as plt\n",
    "\n",
    "# Plot the training data\n",
    "plt.scatter(X_train[y_train == True]['latitude'], X_train[y_train == True]['longitude'], color='blue', label='in_carpool')\n",
    "plt.scatter(X_train[y_train == False]['latitude'], X_train[y_train == False]['longitude'], color='red', label='not_in_carpool')\n",
    "\n",
    "# Plot the test data\n",
    "#plt.scatter(X_test[y_test == True]['latitude'], X_test[y_test == True]['longitude'], color='lightblue', label='in_carpool (test)')\n",
    "#plt.scatter(X_test[y_test == False]['latitude'], X_test[y_test == False]['longitude'], color='pink', label='not_in_carpool (test)')\n",
    "\n",
    "# Set the axis labels and title\n",
    "plt.xlabel('Latitude')\n",
    "plt.ylabel('Longitude')\n",
    "plt.title('kNN Model Scatter Plot')\n",
    "\n",
    "# Add a legend\n",
    "plt.legend()\n",
    "\n",
    "# Show the plot\n",
    "plt.show()"
   ]
  },
  {
   "cell_type": "code",
   "execution_count": 23,
   "metadata": {},
   "outputs": [
    {
     "data": {
      "image/png": "[encoded data removed]",
      "text/plain": [
       "<Figure size 640x480 with 1 Axes>"
      ]
     },
     "metadata": {},
     "output_type": "display_data"
    }
   ],
   "source": [
    "# Plot the test data\n",
    "plt.scatter(X_test[y_test == True]['latitude'], X_test[y_test == True]['longitude'], color='lightblue', label='in_carpool (test)')\n",
    "plt.scatter(X_test[y_test == False]['latitude'], X_test[y_test == False]['longitude'], color='pink', label='not_in_carpool (test)')\n",
    "\n",
    "# Set the axis labels and title\n",
    "plt.xlabel('Latitude')\n",
    "plt.ylabel('Longitude')\n",
    "plt.title('kNN Model Scatter Plot')\n",
    "\n",
    "# Add a legend\n",
    "plt.legend()\n",
    "\n",
    "# Show the plot\n",
    "plt.show()"
   ]
  },
  {
   "cell_type": "code",
   "execution_count": 27,
   "metadata": {},
   "outputs": [],
   "source": [
    "import pickle\n",
    "with open(\"Final_pred.pickle\",\"wb\") as p:\n",
    "            pickle.dump(best_model,p)"
   ]
  },
  {
   "cell_type": "code",
   "execution_count": 28,
   "metadata": {},
   "outputs": [],
   "source": [
    "import gradio as gr\n",
    "import pickle\n",
    "pickle_in = open(\"Final_pred.pickle\",\"rb\")\n",
    "best_model = pickle.load(pickle_in)\n"
   ]
  },
  {
   "cell_type": "code",
   "execution_count": 29,
   "metadata": {},
   "outputs": [
    {
     "name": "stdout",
     "output_type": "stream",
     "text": [
      "Running on local URL:  http://127.0.0.1:7861\n",
      "\n",
      "To create a public link, set `share=True` in `launch()`.\n"
     ]
    },
    {
     "data": {
      "text/html": [
       "<div><iframe src=\"http://127.0.0.1:7861/\" width=\"100%\" height=\"500\" allow=\"autoplay; camera; microphone; clipboard-read; clipboard-write;\" frameborder=\"0\" allowfullscreen></iframe></div>"
      ],
      "text/plain": [
       "<IPython.core.display.HTML object>"
      ]
     },
     "metadata": {},
     "output_type": "display_data"
    },
    {
     "data": {
      "text/plain": []
     },
     "execution_count": 29,
     "metadata": {},
     "output_type": "execute_result"
    },
    {
     "name": "stderr",
     "output_type": "stream",
     "text": [
      "c:\\Users\\navee\\miniconda3\\envs\\tf\\lib\\site-packages\\sklearn\\base.py:439: UserWarning: X does not have valid feature names, but LogisticRegression was fitted with feature names\n",
      "  warnings.warn(\n",
      "Traceback (most recent call last):\n",
      "  File \"c:\\Users\\navee\\miniconda3\\envs\\tf\\lib\\site-packages\\gradio\\routes.py\", line 437, in run_predict\n",
      "    output = await app.get_blocks().process_api(\n",
      "  File \"c:\\Users\\navee\\miniconda3\\envs\\tf\\lib\\site-packages\\gradio\\blocks.py\", line 1352, in process_api\n",
      "    result = await self.call_function(\n",
      "  File \"c:\\Users\\navee\\miniconda3\\envs\\tf\\lib\\site-packages\\gradio\\blocks.py\", line 1077, in call_function\n",
      "    prediction = await anyio.to_thread.run_sync(\n",
      "  File \"c:\\Users\\navee\\miniconda3\\envs\\tf\\lib\\site-packages\\anyio\\to_thread.py\", line 33, in run_sync\n",
      "    return await get_asynclib().run_sync_in_worker_thread(\n",
      "  File \"c:\\Users\\navee\\miniconda3\\envs\\tf\\lib\\site-packages\\anyio\\_backends\\_asyncio.py\", line 877, in run_sync_in_worker_thread\n",
      "    return await future\n",
      "  File \"c:\\Users\\navee\\miniconda3\\envs\\tf\\lib\\site-packages\\anyio\\_backends\\_asyncio.py\", line 807, in run\n",
      "    result = context.run(func, *args)\n",
      "  File \"C:\\Users\\navee\\AppData\\Local\\Temp\\ipykernel_5368\\3856495886.py\", line 2, in predict_carpool_zone\n",
      "    prediction,neighbours = best_model.predict([[latitude, longitude]])[0]\n",
      "TypeError: cannot unpack non-iterable numpy.int32 object\n"
     ]
    }
   ],
   "source": [
    "\n",
    "def predict_carpool_zone(latitude, longitude):\n",
    "    prediction,neighbours = best_model.predict([[latitude, longitude]])[0]\n",
    "    prediction_str = 'In carpool' if prediction[True] else 'not in carpool'\n",
    "    return prediction_str, str(neighbours)\n",
    "\n",
    "iface = gr.Interface(\n",
    "    fn=predict_carpool_zone,\n",
    "    inputs=['number', 'number'],\n",
    "    outputs=['label','label']\n",
    ")\n",
    "\n",
    "iface.launch()"
   ]
  }
 ],
 "metadata": {
  "kernelspec": {
   "display_name": "tf",
   "language": "python",
   "name": "python3"
  },
  "language_info": {
   "codemirror_mode": {
    "name": "ipython",
    "version": 3
   },
   "file_extension": ".py",
   "mimetype": "text/x-python",
   "name": "python",
   "nbconvert_exporter": "python",
   "pygments_lexer": "ipython3",
   "version": "3.9.16"
  },
  "orig_nbformat": 4
 },
 "nbformat": 4,
 "nbformat_minor": 2
}
